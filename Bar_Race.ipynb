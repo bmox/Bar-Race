{
  "nbformat": 4,
  "nbformat_minor": 0,
  "metadata": {
    "colab": {
      "name": "Bar Race",
      "provenance": []
    },
    "kernelspec": {
      "name": "python3",
      "display_name": "Python 3"
    },
    "language_info": {
      "name": "python"
    }
  },
  "cells": [
    {
      "cell_type": "markdown",
      "metadata": {
        "id": "Qwa20QAN8722"
      },
      "source": [
        "#Each image name same as column name\n",
        "[Youtube Tutorial](https://youtu.be/mr61PDiUvw) <br>\n",
        "[GitHub](https://github.com/bmox/bar_chart_race) <br>\n",
        "[Demo CSV File and Images](https://drive.google.com/drive/folders/1Tn62BxGs9OE_mzrE-28pfnrITStyAWaz)"
      ]
    },
    {
      "cell_type": "code",
      "metadata": {
        "id": "SDNU2w35w6X-"
      },
      "source": [
        "# @title ##**Install requirements** { display-mode: \"form\" }\n",
        "!pip install git+https://github.com/programiz/bar_chart_race.git@master\n",
        "!pip install -U kora"
      ],
      "execution_count": null,
      "outputs": []
    },
    {
      "cell_type": "code",
      "metadata": {
        "id": "TflMWqQV4PSq"
      },
      "source": [
        "# @title ##**Import Modules** { display-mode: \"form\" }\n",
        "\n",
        "import bar_chart_race as bcr\n",
        "import pandas as pd\n",
        "from kora.drive import upload_public\n",
        "from google.colab import files"
      ],
      "execution_count": 48,
      "outputs": []
    },
    {
      "cell_type": "code",
      "metadata": {
        "colab": {
          "base_uri": "https://localhost:8080/",
          "height": 270
        },
        "id": "slqRf86G4NnM",
        "outputId": "23e76f40-d148-4c66-a47e-28a63f45dd81"
      },
      "source": [
        "# @title ##**Enter csv file path** { display-mode: \"form\" }\n",
        "!mkdir images\n",
        "csv_path=\"/content/data.csv\"#@param {type: \"string\"}\n",
        "data_frame=pd.read_csv(csv_path)\n",
        "\n",
        "## iterating the columns\n",
        "# for col in data_frame.columns:\n",
        "#     print(col)\n",
        "\n",
        "index = data_frame.index\n",
        "rows = len(index)\n",
        "\n",
        "print(\"\\n\\nNumber of rowns is:\")\n",
        "print(rows)\n",
        "data_frame.head()"
      ],
      "execution_count": 49,
      "outputs": [
        {
          "output_type": "stream",
          "name": "stdout",
          "text": [
            "\n",
            "\n",
            "Number of rowns is:\n",
            "21\n"
          ]
        },
        {
          "output_type": "execute_result",
          "data": {
            "text/html": [
              "<div>\n",
              "<style scoped>\n",
              "    .dataframe tbody tr th:only-of-type {\n",
              "        vertical-align: middle;\n",
              "    }\n",
              "\n",
              "    .dataframe tbody tr th {\n",
              "        vertical-align: top;\n",
              "    }\n",
              "\n",
              "    .dataframe thead th {\n",
              "        text-align: right;\n",
              "    }\n",
              "</style>\n",
              "<table border=\"1\" class=\"dataframe\">\n",
              "  <thead>\n",
              "    <tr style=\"text-align: right;\">\n",
              "      <th></th>\n",
              "      <th>Date</th>\n",
              "      <th>CMU</th>\n",
              "      <th>MIT</th>\n",
              "      <th>UW</th>\n",
              "      <th>Stanford</th>\n",
              "      <th>Berkeley</th>\n",
              "      <th>Illinois</th>\n",
              "      <th>San Diego</th>\n",
              "      <th>Maryland</th>\n",
              "      <th>Georgia Tech</th>\n",
              "      <th>Cornell</th>\n",
              "      <th>Michigan</th>\n",
              "      <th>Columbia</th>\n",
              "      <th>Texas</th>\n",
              "    </tr>\n",
              "  </thead>\n",
              "  <tbody>\n",
              "    <tr>\n",
              "      <th>0</th>\n",
              "      <td>2000</td>\n",
              "      <td>8.9</td>\n",
              "      <td>5.8</td>\n",
              "      <td>NaN</td>\n",
              "      <td>5.1</td>\n",
              "      <td>6.3</td>\n",
              "      <td>4.3</td>\n",
              "      <td>4.7</td>\n",
              "      <td>4.4</td>\n",
              "      <td>4.4</td>\n",
              "      <td>NaN</td>\n",
              "      <td>NaN</td>\n",
              "      <td>4.1</td>\n",
              "      <td>3.7</td>\n",
              "    </tr>\n",
              "    <tr>\n",
              "      <th>1</th>\n",
              "      <td>2001</td>\n",
              "      <td>9.8</td>\n",
              "      <td>6.4</td>\n",
              "      <td>NaN</td>\n",
              "      <td>5.7</td>\n",
              "      <td>7.2</td>\n",
              "      <td>4.7</td>\n",
              "      <td>5.3</td>\n",
              "      <td>4.8</td>\n",
              "      <td>4.6</td>\n",
              "      <td>4.0</td>\n",
              "      <td>NaN</td>\n",
              "      <td>4.3</td>\n",
              "      <td>NaN</td>\n",
              "    </tr>\n",
              "    <tr>\n",
              "      <th>2</th>\n",
              "      <td>2002</td>\n",
              "      <td>10.5</td>\n",
              "      <td>7.1</td>\n",
              "      <td>NaN</td>\n",
              "      <td>6.3</td>\n",
              "      <td>8.0</td>\n",
              "      <td>5.4</td>\n",
              "      <td>5.8</td>\n",
              "      <td>5.3</td>\n",
              "      <td>5.1</td>\n",
              "      <td>4.2</td>\n",
              "      <td>NaN</td>\n",
              "      <td>4.6</td>\n",
              "      <td>NaN</td>\n",
              "    </tr>\n",
              "    <tr>\n",
              "      <th>3</th>\n",
              "      <td>2003</td>\n",
              "      <td>11.8</td>\n",
              "      <td>7.8</td>\n",
              "      <td>NaN</td>\n",
              "      <td>7.1</td>\n",
              "      <td>8.9</td>\n",
              "      <td>6.2</td>\n",
              "      <td>6.5</td>\n",
              "      <td>6.0</td>\n",
              "      <td>5.5</td>\n",
              "      <td>4.9</td>\n",
              "      <td>NaN</td>\n",
              "      <td>5.0</td>\n",
              "      <td>NaN</td>\n",
              "    </tr>\n",
              "    <tr>\n",
              "      <th>4</th>\n",
              "      <td>2004</td>\n",
              "      <td>13.4</td>\n",
              "      <td>8.5</td>\n",
              "      <td>NaN</td>\n",
              "      <td>7.9</td>\n",
              "      <td>9.9</td>\n",
              "      <td>6.8</td>\n",
              "      <td>7.1</td>\n",
              "      <td>6.4</td>\n",
              "      <td>5.9</td>\n",
              "      <td>5.4</td>\n",
              "      <td>NaN</td>\n",
              "      <td>5.5</td>\n",
              "      <td>NaN</td>\n",
              "    </tr>\n",
              "  </tbody>\n",
              "</table>\n",
              "</div>"
            ],
            "text/plain": [
              "   Date   CMU  MIT  UW  ...  Cornell  Michigan  Columbia  Texas\n",
              "0  2000   8.9  5.8 NaN  ...      NaN       NaN       4.1    3.7\n",
              "1  2001   9.8  6.4 NaN  ...      4.0       NaN       4.3    NaN\n",
              "2  2002  10.5  7.1 NaN  ...      4.2       NaN       4.6    NaN\n",
              "3  2003  11.8  7.8 NaN  ...      4.9       NaN       5.0    NaN\n",
              "4  2004  13.4  8.5 NaN  ...      5.4       NaN       5.5    NaN\n",
              "\n",
              "[5 rows x 14 columns]"
            ]
          },
          "metadata": {},
          "execution_count": 49
        }
      ]
    },
    {
      "cell_type": "markdown",
      "metadata": {
        "id": "dYuihvu__bqb"
      },
      "source": [
        "# Drag and drop the all logos in \"images\" folder"
      ]
    },
    {
      "cell_type": "code",
      "metadata": {
        "id": "yUU97k-7xFvb"
      },
      "source": [
        "# @title ##**Fill Up This** { display-mode: \"form\" }\n",
        "\n",
        "index_column=\"Date\"#@param {type: \"string\"}\n",
        "video_name=\"video.mp4\"#@param {type: \"string\"}\n",
        "logo_folder_name=\"images\"#@param {type: \"string\"}\n",
        "number_of_rows=5 #@param {type: \"number\"}\n",
        "Your_title=\"Top C.S college\"#@param {type: \"string\"}\n",
        "\n",
        "\n",
        "df = pd.read_csv(csv_path, index_col=index_column)\n",
        "# replace empty values with 0\n",
        "df.fillna(0.0, inplace=True)\n",
        "\n",
        "# using the bar_chart_race package\n",
        "bcr.bar_chart_race(\n",
        "    # must be a DataFrame where each row represents a single period of time.\n",
        "    df=df[:number_of_rows],\n",
        "\n",
        "    # name of the video file\n",
        "    \n",
        "    filename=video_name,\n",
        "\n",
        "    # specify location of image folder\n",
        "    img_label_folder=logo_folder_name,\n",
        "\n",
        "    # change the Figure properties\n",
        "    fig_kwargs={\n",
        "        'figsize': (26, 15),\n",
        "        'dpi': 120,\n",
        "        'facecolor': '#F8FAFF'\n",
        "    },\n",
        "\n",
        "    # orientation of the bar: h or v\n",
        "    orientation=\"h\",\n",
        "\n",
        "    # sort the bar for each period\n",
        "    sort=\"desc\",\n",
        "\n",
        "    # number of bars to display in each frame\n",
        "    n_bars=10,\n",
        "\n",
        "    # to fix the maximum value of the axis\n",
        "    # fixed_max=True,\n",
        "\n",
        "    # smoothness of the animation\n",
        "    steps_per_period=45,\n",
        "\n",
        "    # time period in ms for each row\n",
        "    period_length=1500,\n",
        "\n",
        "    # custom set of colors\n",
        "    colors=[\n",
        "        '#6ECBCE', '#FF2243', '#FFC33D', '#CE9673', '#FFA0FF', '#6501E5', '#F79522', '#699AF8', '#34718E', '#00DBCD',\n",
        "        '#00A3FF', '#F8A737', '#56BD5B', '#D40CE5', '#6936F9', '#FF317B', '#0000F3', '#FFA0A0', '#31FF83', '#0556F3'\n",
        "    ],\n",
        "\n",
        "    # title and its styles\n",
        "    title={'label': Your_title,\n",
        "           'size': 52,\n",
        "           'weight': 'bold',\n",
        "           'pad': 40\n",
        "           },\n",
        "\n",
        "    # adjust the position and style of the period label\n",
        "    period_label={'x': .95, 'y': .15,\n",
        "                  'ha': 'right',\n",
        "                  'va': 'center',\n",
        "                  'size': 72,\n",
        "                  'weight': 'semibold'\n",
        "                  },\n",
        "\n",
        "    # style the bar label text\n",
        "    bar_label_font={'size': 27},\n",
        "\n",
        "    # style the labels in x and y axis\n",
        "    tick_label_font={'size': 27},\n",
        "\n",
        "    # adjust the style of bar\n",
        "    # alpha is opacity of bar\n",
        "    # ls - width of edge\n",
        "    bar_kwargs={'alpha': .99, 'lw': 0},\n",
        "\n",
        "    # adjust the bar label format\n",
        "    bar_texttemplate='{x:.2f}',\n",
        "\n",
        "    # adjust the period label format\n",
        "    period_template='{x:.0f}',\n",
        ")\n"
      ],
      "execution_count": 50,
      "outputs": []
    },
    {
      "cell_type": "code",
      "metadata": {
        "colab": {
          "base_uri": "https://localhost:8080/",
          "height": 310
        },
        "id": "33BqeG4d1TxT",
        "outputId": "9212fdc5-81e8-4f49-ece8-a85247e189a9"
      },
      "source": [
        "# @title ##**Enter Video Path to Watch the Video** { display-mode: \"form\" }\n",
        "\n",
        "video_path=\"/content/video.mp4\"#@param {type: \"string\"}\n",
        "url = upload_public(video_path)\n",
        "# then display it\n",
        "from IPython.display import HTML\n",
        "HTML(f\"\"\"<video src={url} width=500 controls/>\"\"\")"
      ],
      "execution_count": 51,
      "outputs": [
        {
          "output_type": "execute_result",
          "data": {
            "text/html": [
              "<video src=https://drive.google.com/uc?id=1fNQoT4T1Ag1h7618ezVp_46sidaZgciI width=500 controls/>"
            ],
            "text/plain": [
              "<IPython.core.display.HTML object>"
            ]
          },
          "metadata": {},
          "execution_count": 51
        }
      ]
    },
    {
      "cell_type": "code",
      "metadata": {
        "colab": {
          "base_uri": "https://localhost:8080/",
          "height": 17
        },
        "id": "p0bvlmiw99T8",
        "outputId": "5d60a6bf-3d47-4c0b-b97d-8ac4e4be7034"
      },
      "source": [
        "# @title ##**Download The Video** { display-mode: \"form\" }\n",
        "files.download(video_path)"
      ],
      "execution_count": 46,
      "outputs": [
        {
          "output_type": "display_data",
          "data": {
            "application/javascript": [
              "\n",
              "    async function download(id, filename, size) {\n",
              "      if (!google.colab.kernel.accessAllowed) {\n",
              "        return;\n",
              "      }\n",
              "      const div = document.createElement('div');\n",
              "      const label = document.createElement('label');\n",
              "      label.textContent = `Downloading \"${filename}\": `;\n",
              "      div.appendChild(label);\n",
              "      const progress = document.createElement('progress');\n",
              "      progress.max = size;\n",
              "      div.appendChild(progress);\n",
              "      document.body.appendChild(div);\n",
              "\n",
              "      const buffers = [];\n",
              "      let downloaded = 0;\n",
              "\n",
              "      const channel = await google.colab.kernel.comms.open(id);\n",
              "      // Send a message to notify the kernel that we're ready.\n",
              "      channel.send({})\n",
              "\n",
              "      for await (const message of channel.messages) {\n",
              "        // Send a message to notify the kernel that we're ready.\n",
              "        channel.send({})\n",
              "        if (message.buffers) {\n",
              "          for (const buffer of message.buffers) {\n",
              "            buffers.push(buffer);\n",
              "            downloaded += buffer.byteLength;\n",
              "            progress.value = downloaded;\n",
              "          }\n",
              "        }\n",
              "      }\n",
              "      const blob = new Blob(buffers, {type: 'application/binary'});\n",
              "      const a = document.createElement('a');\n",
              "      a.href = window.URL.createObjectURL(blob);\n",
              "      a.download = filename;\n",
              "      div.appendChild(a);\n",
              "      a.click();\n",
              "      div.remove();\n",
              "    }\n",
              "  "
            ],
            "text/plain": [
              "<IPython.core.display.Javascript object>"
            ]
          },
          "metadata": {}
        },
        {
          "output_type": "display_data",
          "data": {
            "application/javascript": [
              "download(\"download_c935a020-9b05-4cf0-8969-9a9072306cc5\", \"video.mp4\", 689621)"
            ],
            "text/plain": [
              "<IPython.core.display.Javascript object>"
            ]
          },
          "metadata": {}
        }
      ]
    }
  ]
}